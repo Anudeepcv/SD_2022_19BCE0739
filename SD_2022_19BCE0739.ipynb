{
 "cells": [
  {
   "cell_type": "code",
   "execution_count": 46,
   "id": "d4544192",
   "metadata": {},
   "outputs": [
    {
     "name": "stdout",
     "output_type": "stream",
     "text": [
      "PLAYER A P1 P4 P2 P5 P#\n",
      "PLAYER B P3 P1 P2 P4 P%\n"
     ]
    }
   ],
   "source": [
    "if __name__==\"__main__\":\n",
    "    pawns_A=input(\"PLAYER A \").split()\n",
    "    pawns_B=input(\"PLAYER B \").split()\n",
    "    tempA=list(map(lambda a:\"A-\"+a,pawns_A))\n",
    "    tempB=list(map(lambda a:\"B-\"+a,pawns_B))\n",
    "    GRID=[]\n",
    "    GRID.append(tempB)\n",
    "    GRID.append([' -  ']*5)\n",
    "    GRID.append([' -  ']*5)\n",
    "    GRID.append([' -  ']*5)\n",
    "    GRID.append(tempA)\n",
    "    grid=[]\n",
    "    grid.append(pawns_B)\n",
    "    grid.append(['-']*5)\n",
    "    grid.append(['-']*5)\n",
    "    grid.append(['-']*5)\n",
    "    grid.append(pawns_A)"
   ]
  },
  {
   "cell_type": "code",
   "execution_count": 47,
   "id": "6f971af2",
   "metadata": {},
   "outputs": [
    {
     "name": "stdout",
     "output_type": "stream",
     "text": [
      "B-P3 B-P1 B-P2 B-P4 B-P%\n",
      " -    -    -    -    -  \n",
      " -    -    -    -    -  \n",
      " -    -    -    -    -  \n",
      "A-P1 A-P4 A-P2 A-P5 A-P#\n"
     ]
    }
   ],
   "source": [
    "print(GRID[0][0],GRID[0][1],GRID[0][2],GRID[0][3],GRID[0][4])\n",
    "print(GRID[1][0],GRID[1][1],GRID[1][2],GRID[1][3],GRID[1][4])\n",
    "print(GRID[2][0],GRID[2][1],GRID[2][2],GRID[2][3],GRID[2][4])\n",
    "print(GRID[3][0],GRID[3][1],GRID[3][2],GRID[3][3],GRID[3][4])\n",
    "print(GRID[4][0],GRID[4][1],GRID[4][2],GRID[4][3],GRID[4][4])"
   ]
  },
  {
   "cell_type": "code",
   "execution_count": 48,
   "id": "459efcef",
   "metadata": {},
   "outputs": [],
   "source": [
    "def func():\n",
    "    cmd='P1:F'\n",
    "    pawn,direction=cmd.split(\":\")\n",
    "    if pawn in pawns_A:\n",
    "        if direction==\"L\" or direction==\"R\" or direction==\"F\" or direction==\"B\":\n",
    "            for i in grid:\n",
    "                x=grid.index(i)\n",
    "                y=i.index(pawn)\n",
    "                if direction==\"L\":\n",
    "                    if y-1<0:\n",
    "                        return False\n",
    "                    elif grid[x][y-1]!=\"-\":\n",
    "                        if grid[x][y-1] in pawns_B:\n",
    "                            pawns_B.remove(grid[x][y-1])\n",
    "                            grid[x][y-1]=grid[x][y]\n",
    "                            GRID[x][y-1]=GRID[x][y]\n",
    "                            grid[x][y]=\"-\"\n",
    "                            GRID[x][y]=\" -  \"\n",
    "                        else:\n",
    "                            return False\n",
    "                    else:\n",
    "                        grid[x][y-1]=grid[x][y]\n",
    "                        GRID[x][y-1]=GRID[x][y]\n",
    "                        grid[x][y]=\"-\"\n",
    "                        GRID[x][y]=\" -  \"\n",
    "                        return True\n",
    "                if direction==\"R\":\n",
    "                    if y+1<0:\n",
    "                        return False\n",
    "                    elif grid[x][y+1]!=\"-\":\n",
    "                        if grid[x][y+1] in pawns_B:\n",
    "                            pawns_B.remove(grid[x][y+1])\n",
    "                            grid[x][y+1]=grid[x][y]\n",
    "                            GRID[x][y+1]=GRID[x][y]\n",
    "                            grid[x][y]=\"-\"\n",
    "                            GRID[x][y]=\" -  \"\n",
    "                        else:\n",
    "                            return False\n",
    "                    else:\n",
    "                        grid[x][y+1]=grid[x][y]\n",
    "                        GRID[x][y+1]=GRID[x][y]\n",
    "                        grid[x][y]=\"-\"\n",
    "                        GRID[x][y]=\" -  \"\n",
    "                        return True\n",
    "                if direction==\"F\":\n",
    "                    if x-1<0:\n",
    "                        return \"False2\"\n",
    "                    elif grid[x-1][y]!=\"-\":\n",
    "                        if grid[x-1][y] in pawns_B:\n",
    "                            pawns_B.remove(grid[x-1][y])\n",
    "                            grid[x-1][y]=grid[x][y]\n",
    "                            GRID[x-1][y]=GRID[x][y]\n",
    "                            grid[x][y]=\"-\"\n",
    "                            GRID[x][y]=\" -  \"\n",
    "                        else:\n",
    "                            return \"False1\"\n",
    "                    else:\n",
    "                        grid[x-1][y]=grid[x][y]\n",
    "                        GRID[x-1][y]=GRID[x][y]\n",
    "                        grid[x][y]=\"-\"\n",
    "                        GRID[x][y]=\" -  \"\n",
    "                        return True\n",
    "                if direction==\"B\":\n",
    "                    if x+1<0:\n",
    "                        return False\n",
    "                    elif grid[x+1][y]!=\"-\":\n",
    "                        if grid[x+1][y] in pawns_B:\n",
    "                            pawns_B.remove(grid[x+1][y])\n",
    "                            grid[x+1][y]=grid[x][y]\n",
    "                            GRID[x+1][y]=GRID[x][y]\n",
    "                            grid[x][y]=\"-\"\n",
    "                            GRID[x][y]=\" -  \"\n",
    "                        else:\n",
    "                            return False\n",
    "                    else:\n",
    "                        grid[x+1][y]=grid[x][y]\n",
    "                        GRID[x+1][y]=GRID[x][y]\n",
    "                        grid[x][y]=\"-\"\n",
    "                        GRID[x][y]=\" -  \"\n",
    "                        return True"
   ]
  },
  {
   "cell_type": "code",
   "execution_count": 49,
   "id": "a80dd38d",
   "metadata": {},
   "outputs": [
    {
     "name": "stdout",
     "output_type": "stream",
     "text": [
      "False2\n"
     ]
    }
   ],
   "source": [
    "print(func())"
   ]
  },
  {
   "cell_type": "code",
   "execution_count": null,
   "id": "509fde87",
   "metadata": {},
   "outputs": [],
   "source": []
  }
 ],
 "metadata": {
  "kernelspec": {
   "display_name": "Python 3 (ipykernel)",
   "language": "python",
   "name": "python3"
  },
  "language_info": {
   "codemirror_mode": {
    "name": "ipython",
    "version": 3
   },
   "file_extension": ".py",
   "mimetype": "text/x-python",
   "name": "python",
   "nbconvert_exporter": "python",
   "pygments_lexer": "ipython3",
   "version": "3.9.12"
  }
 },
 "nbformat": 4,
 "nbformat_minor": 5
}
