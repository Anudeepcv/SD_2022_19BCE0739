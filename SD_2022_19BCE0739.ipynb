{
 "cells": [
  {
   "cell_type": "code",
   "execution_count": 1,
   "id": "d4544192",
   "metadata": {},
   "outputs": [
    {
     "name": "stdout",
     "output_type": "stream",
     "text": [
      "PLAYER A P1 P3 P4 P2 P5\n",
      "PLAYER B P4 P2 P1 P3 P5\n"
     ]
    }
   ],
   "source": [
    "if __name__==\"__main__\":\n",
    "    pawns_A=list(map(lambda a:\"A-\"+a,input(\"PLAYER A \").split()))\n",
    "    pawns_B=list(map(lambda a:\"B-\"+a,input(\"PLAYER B \").split()))\n",
    "    GRID=[]\n",
    "    GRID.append(pawns_B)\n",
    "    GRID.append([' -  ']*5)\n",
    "    GRID.append([' -  ']*5)\n",
    "    GRID.append([' -  ']*5)\n",
    "    GRID.append(pawns_A)"
   ]
  },
  {
   "cell_type": "code",
   "execution_count": 2,
   "id": "6f971af2",
   "metadata": {},
   "outputs": [
    {
     "name": "stdout",
     "output_type": "stream",
     "text": [
      "B-P4 B-P2 B-P1 B-P3 B-P5\n",
      " -    -    -    -    -  \n",
      " -    -    -    -    -  \n",
      " -    -    -    -    -  \n",
      "A-P1 A-P3 A-P4 A-P2 A-P5\n"
     ]
    }
   ],
   "source": [
    "print(GRID[0][0],GRID[0][1],GRID[0][2],GRID[0][3],GRID[0][4])\n",
    "print(GRID[1][0],GRID[1][1],GRID[1][2],GRID[1][3],GRID[1][4])\n",
    "print(GRID[2][0],GRID[2][1],GRID[2][2],GRID[2][3],GRID[2][4])\n",
    "print(GRID[3][0],GRID[3][1],GRID[3][2],GRID[3][3],GRID[3][4])\n",
    "print(GRID[4][0],GRID[4][1],GRID[4][2],GRID[4][3],GRID[4][4])"
   ]
  },
  {
   "cell_type": "code",
   "execution_count": 12,
   "id": "459efcef",
   "metadata": {},
   "outputs": [],
   "source": [
    "def func():\n",
    "    cmd='P1:F'\n",
    "    pawn,direction=cmd.split(\":\")\n",
    "    pawn=\"A-\"+pawn\n",
    "    if pawn in pawns_A:\n",
    "        if direction==\"L\" or direction==\"R\" or direction==\"F\" or direction==\"B\":\n",
    "            for i in GRID:\n",
    "                if pawn in i:\n",
    "                    x=GRID.index(i)\n",
    "                    y=i.index(pawn)\n",
    "                    print(x,y)\n",
    "                    if direction==\"L\":\n",
    "                        if y-1<0:\n",
    "                            return False\n",
    "                        elif GRID[x][y-1]!=\"-\":\n",
    "                            if GRID[x][y-1] in pawns_B:\n",
    "                                pawns_B.remove(GRID[x][y-1])\n",
    "                                GRID[x][y-1]=GRID[x][y]\n",
    "                                GRID[x][y]=\" -  \"\n",
    "                            else:\n",
    "                                GRID[x][y-1]=GRID[x][y]\n",
    "                                GRID[x][y]=\" -  \"\n",
    "                                return True\n",
    "                    if direction==\"R\":\n",
    "                        if y+1<0:\n",
    "                            return False\n",
    "                        elif GRID[x][y+1]!=\" -  \":\n",
    "                            if GRID[x][y+1] in pawns_B:\n",
    "                                pawns_B.remove(GRID[x][y+1])\n",
    "                                GRID[x][y+1]=GRID[x][y]\n",
    "                                GRID[x][y]=\" -  \"\n",
    "                            else:\n",
    "                                GRID[x][y+1]=GRID[x][y]\n",
    "                                GRID[x][y]=\" -  \"\n",
    "                                return True\n",
    "                    if direction==\"F\":\n",
    "                        if x-1<0:\n",
    "                            return False\n",
    "                        elif GRID[x-1][y]!=\"-\":\n",
    "                            if GRID[x-1][y] in pawns_B:\n",
    "                                pawns_B.remove(GRID[x-1][y])\n",
    "                                GRID[x-1][y]=GRID[x][y]\n",
    "                                GRID[x][y]=\" -  \"\n",
    "                                return True\n",
    "                            else:\n",
    "                                GRID[x-1][y]=GRID[x][y]\n",
    "                                GRID[x][y]=\" -  \"\n",
    "                                return True\n",
    "                    if direction==\"B\":\n",
    "                        if x+1<0:\n",
    "                            return False\n",
    "                        elif GRID[x+1][y]!=\"-\":\n",
    "                            if GRID[x+1][y] in pawns_B:\n",
    "                                pawns_B.remove(GRID[x+1][y])\n",
    "                                GRID[x+1][y]=GRID[x][y]\n",
    "                                GRID[x][y]=\" -  \"\n",
    "                            else:\n",
    "                                GRID[x+1][y]=GRID[x][y]\n",
    "                                GRID[x][y]=\" -  \"\n",
    "                                return True"
   ]
  },
  {
   "cell_type": "code",
   "execution_count": 14,
   "id": "509fde87",
   "metadata": {},
   "outputs": [
    {
     "name": "stdout",
     "output_type": "stream",
     "text": [
      "B-P4 B-P2 B-P1 B-P3 B-P5\n",
      " -    -    -    -    -  \n",
      " -    -    -    -    -  \n",
      "A-P1  -    -    -    -  \n",
      " -   A-P3 A-P4 A-P2 A-P5\n"
     ]
    }
   ],
   "source": [
    "print(GRID[0][0],GRID[0][1],GRID[0][2],GRID[0][3],GRID[0][4])\n",
    "print(GRID[1][0],GRID[1][1],GRID[1][2],GRID[1][3],GRID[1][4])\n",
    "print(GRID[2][0],GRID[2][1],GRID[2][2],GRID[2][3],GRID[2][4])\n",
    "print(GRID[3][0],GRID[3][1],GRID[3][2],GRID[3][3],GRID[3][4])\n",
    "print(GRID[4][0],GRID[4][1],GRID[4][2],GRID[4][3],GRID[4][4])"
   ]
  },
  {
   "cell_type": "code",
   "execution_count": null,
   "id": "e0cd63cb",
   "metadata": {},
   "outputs": [],
   "source": []
  }
 ],
 "metadata": {
  "kernelspec": {
   "display_name": "Python 3 (ipykernel)",
   "language": "python",
   "name": "python3"
  },
  "language_info": {
   "codemirror_mode": {
    "name": "ipython",
    "version": 3
   },
   "file_extension": ".py",
   "mimetype": "text/x-python",
   "name": "python",
   "nbconvert_exporter": "python",
   "pygments_lexer": "ipython3",
   "version": "3.9.12"
  }
 },
 "nbformat": 4,
 "nbformat_minor": 5
}
